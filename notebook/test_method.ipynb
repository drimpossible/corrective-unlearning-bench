{
 "cells": [
  {
   "cell_type": "code",
   "execution_count": 4,
   "metadata": {},
   "outputs": [
    {
     "name": "stdout",
     "output_type": "stream",
     "text": [
      "Requirement already satisfied: kronfluence in ./miniconda3/envs/influence/lib/python3.12/site-packages (0.0.2)\n",
      "Requirement already satisfied: torch>=2.1.0 in ./miniconda3/envs/influence/lib/python3.12/site-packages (from kronfluence) (2.2.2)\n",
      "Requirement already satisfied: torchvision>=0.16.0 in ./miniconda3/envs/influence/lib/python3.12/site-packages (from kronfluence) (0.17.2)\n",
      "Requirement already satisfied: accelerate>=0.27.2 in ./miniconda3/envs/influence/lib/python3.12/site-packages (from kronfluence) (0.29.1)\n",
      "Requirement already satisfied: einops>=0.7.0 in ./miniconda3/envs/influence/lib/python3.12/site-packages (from kronfluence) (0.7.0)\n",
      "Requirement already satisfied: einconv>=0.1.0 in ./miniconda3/envs/influence/lib/python3.12/site-packages (from kronfluence) (0.1.0)\n",
      "Requirement already satisfied: opt-einsum>=3.3.0 in ./miniconda3/envs/influence/lib/python3.12/site-packages (from kronfluence) (3.3.0)\n",
      "Requirement already satisfied: safetensors>=0.4.2 in ./miniconda3/envs/influence/lib/python3.12/site-packages (from kronfluence) (0.4.2)\n",
      "Requirement already satisfied: tqdm>=4.66.2 in ./miniconda3/envs/influence/lib/python3.12/site-packages (from kronfluence) (4.66.2)\n",
      "Requirement already satisfied: numpy>=1.17 in ./miniconda3/envs/influence/lib/python3.12/site-packages (from accelerate>=0.27.2->kronfluence) (1.26.4)\n",
      "Requirement already satisfied: packaging>=20.0 in ./miniconda3/envs/influence/lib/python3.12/site-packages (from accelerate>=0.27.2->kronfluence) (23.2)\n",
      "Requirement already satisfied: psutil in ./miniconda3/envs/influence/lib/python3.12/site-packages (from accelerate>=0.27.2->kronfluence) (5.9.0)\n",
      "Requirement already satisfied: pyyaml in ./miniconda3/envs/influence/lib/python3.12/site-packages (from accelerate>=0.27.2->kronfluence) (6.0.1)\n",
      "Requirement already satisfied: huggingface-hub in ./miniconda3/envs/influence/lib/python3.12/site-packages (from accelerate>=0.27.2->kronfluence) (0.22.2)\n",
      "Requirement already satisfied: filelock in ./miniconda3/envs/influence/lib/python3.12/site-packages (from torch>=2.1.0->kronfluence) (3.13.1)\n",
      "Requirement already satisfied: typing-extensions>=4.8.0 in ./miniconda3/envs/influence/lib/python3.12/site-packages (from torch>=2.1.0->kronfluence) (4.9.0)\n",
      "Requirement already satisfied: sympy in ./miniconda3/envs/influence/lib/python3.12/site-packages (from torch>=2.1.0->kronfluence) (1.12)\n",
      "Requirement already satisfied: networkx in ./miniconda3/envs/influence/lib/python3.12/site-packages (from torch>=2.1.0->kronfluence) (3.1)\n",
      "Requirement already satisfied: jinja2 in ./miniconda3/envs/influence/lib/python3.12/site-packages (from torch>=2.1.0->kronfluence) (3.1.3)\n",
      "Requirement already satisfied: fsspec in ./miniconda3/envs/influence/lib/python3.12/site-packages (from torch>=2.1.0->kronfluence) (2024.2.0)\n",
      "Requirement already satisfied: pillow!=8.3.*,>=5.3.0 in ./miniconda3/envs/influence/lib/python3.12/site-packages (from torchvision>=0.16.0->kronfluence) (10.2.0)\n",
      "Requirement already satisfied: requests in ./miniconda3/envs/influence/lib/python3.12/site-packages (from huggingface-hub->accelerate>=0.27.2->kronfluence) (2.31.0)\n",
      "Requirement already satisfied: MarkupSafe>=2.0 in ./miniconda3/envs/influence/lib/python3.12/site-packages (from jinja2->torch>=2.1.0->kronfluence) (2.1.3)\n",
      "Requirement already satisfied: mpmath>=0.19 in ./miniconda3/envs/influence/lib/python3.12/site-packages (from sympy->torch>=2.1.0->kronfluence) (1.3.0)\n",
      "Requirement already satisfied: charset-normalizer<4,>=2 in ./miniconda3/envs/influence/lib/python3.12/site-packages (from requests->huggingface-hub->accelerate>=0.27.2->kronfluence) (2.0.4)\n",
      "Requirement already satisfied: idna<4,>=2.5 in ./miniconda3/envs/influence/lib/python3.12/site-packages (from requests->huggingface-hub->accelerate>=0.27.2->kronfluence) (3.4)\n",
      "Requirement already satisfied: urllib3<3,>=1.21.1 in ./miniconda3/envs/influence/lib/python3.12/site-packages (from requests->huggingface-hub->accelerate>=0.27.2->kronfluence) (2.1.0)\n",
      "Requirement already satisfied: certifi>=2017.4.17 in ./miniconda3/envs/influence/lib/python3.12/site-packages (from requests->huggingface-hub->accelerate>=0.27.2->kronfluence) (2024.2.2)\n",
      "Requirement already satisfied: datasets in ./miniconda3/envs/influence/lib/python3.12/site-packages (2.18.0)\n",
      "Requirement already satisfied: filelock in ./miniconda3/envs/influence/lib/python3.12/site-packages (from datasets) (3.13.1)\n",
      "Requirement already satisfied: numpy>=1.17 in ./miniconda3/envs/influence/lib/python3.12/site-packages (from datasets) (1.26.4)\n",
      "Requirement already satisfied: pyarrow>=12.0.0 in ./miniconda3/envs/influence/lib/python3.12/site-packages (from datasets) (15.0.2)\n",
      "Requirement already satisfied: pyarrow-hotfix in ./miniconda3/envs/influence/lib/python3.12/site-packages (from datasets) (0.6)\n",
      "Requirement already satisfied: dill<0.3.9,>=0.3.0 in ./miniconda3/envs/influence/lib/python3.12/site-packages (from datasets) (0.3.8)\n",
      "Requirement already satisfied: pandas in ./miniconda3/envs/influence/lib/python3.12/site-packages (from datasets) (2.2.1)\n",
      "Requirement already satisfied: requests>=2.19.0 in ./miniconda3/envs/influence/lib/python3.12/site-packages (from datasets) (2.31.0)\n",
      "Requirement already satisfied: tqdm>=4.62.1 in ./miniconda3/envs/influence/lib/python3.12/site-packages (from datasets) (4.66.2)\n",
      "Requirement already satisfied: xxhash in ./miniconda3/envs/influence/lib/python3.12/site-packages (from datasets) (3.4.1)\n",
      "Requirement already satisfied: multiprocess in ./miniconda3/envs/influence/lib/python3.12/site-packages (from datasets) (0.70.16)\n",
      "Requirement already satisfied: fsspec<=2024.2.0,>=2023.1.0 in ./miniconda3/envs/influence/lib/python3.12/site-packages (from fsspec[http]<=2024.2.0,>=2023.1.0->datasets) (2024.2.0)\n",
      "Requirement already satisfied: aiohttp in ./miniconda3/envs/influence/lib/python3.12/site-packages (from datasets) (3.9.3)\n",
      "Requirement already satisfied: huggingface-hub>=0.19.4 in ./miniconda3/envs/influence/lib/python3.12/site-packages (from datasets) (0.22.2)\n",
      "Requirement already satisfied: packaging in ./miniconda3/envs/influence/lib/python3.12/site-packages (from datasets) (23.2)\n",
      "Requirement already satisfied: pyyaml>=5.1 in ./miniconda3/envs/influence/lib/python3.12/site-packages (from datasets) (6.0.1)\n",
      "Requirement already satisfied: aiosignal>=1.1.2 in ./miniconda3/envs/influence/lib/python3.12/site-packages (from aiohttp->datasets) (1.3.1)\n",
      "Requirement already satisfied: attrs>=17.3.0 in ./miniconda3/envs/influence/lib/python3.12/site-packages (from aiohttp->datasets) (23.1.0)\n",
      "Requirement already satisfied: frozenlist>=1.1.1 in ./miniconda3/envs/influence/lib/python3.12/site-packages (from aiohttp->datasets) (1.4.1)\n",
      "Requirement already satisfied: multidict<7.0,>=4.5 in ./miniconda3/envs/influence/lib/python3.12/site-packages (from aiohttp->datasets) (6.0.5)\n",
      "Requirement already satisfied: yarl<2.0,>=1.0 in ./miniconda3/envs/influence/lib/python3.12/site-packages (from aiohttp->datasets) (1.9.4)\n",
      "Requirement already satisfied: typing-extensions>=3.7.4.3 in ./miniconda3/envs/influence/lib/python3.12/site-packages (from huggingface-hub>=0.19.4->datasets) (4.9.0)\n",
      "Requirement already satisfied: charset-normalizer<4,>=2 in ./miniconda3/envs/influence/lib/python3.12/site-packages (from requests>=2.19.0->datasets) (2.0.4)\n",
      "Requirement already satisfied: idna<4,>=2.5 in ./miniconda3/envs/influence/lib/python3.12/site-packages (from requests>=2.19.0->datasets) (3.4)\n",
      "Requirement already satisfied: urllib3<3,>=1.21.1 in ./miniconda3/envs/influence/lib/python3.12/site-packages (from requests>=2.19.0->datasets) (2.1.0)\n",
      "Requirement already satisfied: certifi>=2017.4.17 in ./miniconda3/envs/influence/lib/python3.12/site-packages (from requests>=2.19.0->datasets) (2024.2.2)\n",
      "Requirement already satisfied: python-dateutil>=2.8.2 in ./miniconda3/envs/influence/lib/python3.12/site-packages (from pandas->datasets) (2.8.2)\n",
      "Requirement already satisfied: pytz>=2020.1 in ./miniconda3/envs/influence/lib/python3.12/site-packages (from pandas->datasets) (2023.3.post1)\n",
      "Requirement already satisfied: tzdata>=2022.7 in ./miniconda3/envs/influence/lib/python3.12/site-packages (from pandas->datasets) (2024.1)\n",
      "Requirement already satisfied: six>=1.5 in ./miniconda3/envs/influence/lib/python3.12/site-packages (from python-dateutil>=2.8.2->pandas->datasets) (1.16.0)\n",
      "Requirement already satisfied: timm in ./miniconda3/envs/influence/lib/python3.12/site-packages (0.9.16)\n",
      "Requirement already satisfied: torch in ./miniconda3/envs/influence/lib/python3.12/site-packages (from timm) (2.2.2)\n",
      "Requirement already satisfied: torchvision in ./miniconda3/envs/influence/lib/python3.12/site-packages (from timm) (0.17.2)\n",
      "Requirement already satisfied: pyyaml in ./miniconda3/envs/influence/lib/python3.12/site-packages (from timm) (6.0.1)\n",
      "Requirement already satisfied: huggingface_hub in ./miniconda3/envs/influence/lib/python3.12/site-packages (from timm) (0.22.2)\n",
      "Requirement already satisfied: safetensors in ./miniconda3/envs/influence/lib/python3.12/site-packages (from timm) (0.4.2)\n",
      "Requirement already satisfied: filelock in ./miniconda3/envs/influence/lib/python3.12/site-packages (from huggingface_hub->timm) (3.13.1)\n",
      "Requirement already satisfied: fsspec>=2023.5.0 in ./miniconda3/envs/influence/lib/python3.12/site-packages (from huggingface_hub->timm) (2024.2.0)\n",
      "Requirement already satisfied: packaging>=20.9 in ./miniconda3/envs/influence/lib/python3.12/site-packages (from huggingface_hub->timm) (23.2)\n",
      "Requirement already satisfied: requests in ./miniconda3/envs/influence/lib/python3.12/site-packages (from huggingface_hub->timm) (2.31.0)\n",
      "Requirement already satisfied: tqdm>=4.42.1 in ./miniconda3/envs/influence/lib/python3.12/site-packages (from huggingface_hub->timm) (4.66.2)\n",
      "Requirement already satisfied: typing-extensions>=3.7.4.3 in ./miniconda3/envs/influence/lib/python3.12/site-packages (from huggingface_hub->timm) (4.9.0)\n",
      "Requirement already satisfied: sympy in ./miniconda3/envs/influence/lib/python3.12/site-packages (from torch->timm) (1.12)\n",
      "Requirement already satisfied: networkx in ./miniconda3/envs/influence/lib/python3.12/site-packages (from torch->timm) (3.1)\n",
      "Requirement already satisfied: jinja2 in ./miniconda3/envs/influence/lib/python3.12/site-packages (from torch->timm) (3.1.3)\n",
      "Requirement already satisfied: numpy in ./miniconda3/envs/influence/lib/python3.12/site-packages (from torchvision->timm) (1.26.4)\n",
      "Requirement already satisfied: pillow!=8.3.*,>=5.3.0 in ./miniconda3/envs/influence/lib/python3.12/site-packages (from torchvision->timm) (10.2.0)\n",
      "Requirement already satisfied: MarkupSafe>=2.0 in ./miniconda3/envs/influence/lib/python3.12/site-packages (from jinja2->torch->timm) (2.1.3)\n",
      "Requirement already satisfied: charset-normalizer<4,>=2 in ./miniconda3/envs/influence/lib/python3.12/site-packages (from requests->huggingface_hub->timm) (2.0.4)\n",
      "Requirement already satisfied: idna<4,>=2.5 in ./miniconda3/envs/influence/lib/python3.12/site-packages (from requests->huggingface_hub->timm) (3.4)\n",
      "Requirement already satisfied: urllib3<3,>=1.21.1 in ./miniconda3/envs/influence/lib/python3.12/site-packages (from requests->huggingface_hub->timm) (2.1.0)\n",
      "Requirement already satisfied: certifi>=2017.4.17 in ./miniconda3/envs/influence/lib/python3.12/site-packages (from requests->huggingface_hub->timm) (2024.2.2)\n",
      "Requirement already satisfied: mpmath>=0.19 in ./miniconda3/envs/influence/lib/python3.12/site-packages (from sympy->torch->timm) (1.3.0)\n",
      "Requirement already satisfied: torchmetrics in ./miniconda3/envs/influence/lib/python3.12/site-packages (1.3.2)\n",
      "Requirement already satisfied: numpy>1.20.0 in ./miniconda3/envs/influence/lib/python3.12/site-packages (from torchmetrics) (1.26.4)\n",
      "Requirement already satisfied: packaging>17.1 in ./miniconda3/envs/influence/lib/python3.12/site-packages (from torchmetrics) (23.2)\n",
      "Requirement already satisfied: torch>=1.10.0 in ./miniconda3/envs/influence/lib/python3.12/site-packages (from torchmetrics) (2.2.2)\n",
      "Requirement already satisfied: lightning-utilities>=0.8.0 in ./miniconda3/envs/influence/lib/python3.12/site-packages (from torchmetrics) (0.11.2)\n",
      "Requirement already satisfied: setuptools in ./miniconda3/envs/influence/lib/python3.12/site-packages (from lightning-utilities>=0.8.0->torchmetrics) (68.2.2)\n",
      "Requirement already satisfied: typing-extensions in ./miniconda3/envs/influence/lib/python3.12/site-packages (from lightning-utilities>=0.8.0->torchmetrics) (4.9.0)\n",
      "Requirement already satisfied: filelock in ./miniconda3/envs/influence/lib/python3.12/site-packages (from torch>=1.10.0->torchmetrics) (3.13.1)\n",
      "Requirement already satisfied: sympy in ./miniconda3/envs/influence/lib/python3.12/site-packages (from torch>=1.10.0->torchmetrics) (1.12)\n",
      "Requirement already satisfied: networkx in ./miniconda3/envs/influence/lib/python3.12/site-packages (from torch>=1.10.0->torchmetrics) (3.1)\n",
      "Requirement already satisfied: jinja2 in ./miniconda3/envs/influence/lib/python3.12/site-packages (from torch>=1.10.0->torchmetrics) (3.1.3)\n",
      "Requirement already satisfied: fsspec in ./miniconda3/envs/influence/lib/python3.12/site-packages (from torch>=1.10.0->torchmetrics) (2024.2.0)\n",
      "Requirement already satisfied: MarkupSafe>=2.0 in ./miniconda3/envs/influence/lib/python3.12/site-packages (from jinja2->torch>=1.10.0->torchmetrics) (2.1.3)\n",
      "Requirement already satisfied: mpmath>=0.19 in ./miniconda3/envs/influence/lib/python3.12/site-packages (from sympy->torch>=1.10.0->torchmetrics) (1.3.0)\n"
     ]
    }
   ],
   "source": [
    "!pip install kronfluence\n",
    "!pip install datasets\n",
    "!pip install timm\n",
    "!pip install torchmetrics"
   ]
  },
  {
   "cell_type": "code",
   "execution_count": 5,
   "metadata": {},
   "outputs": [],
   "source": [
    "import torch\n",
    "import os\n",
    "import sys\n",
    "import timm\n",
    "import numpy as np\n",
    "from os import makedirs\n",
    "from os.path import exists\n",
    "helper_dir = \"/data/andy_lee/github/test/corrective-unlearning-bench/src\"\n",
    "sys.path.append(helper_dir)\n",
    "from utils import seed_everything, SubsetSequentialSampler, get_targeted_classes\n",
    "import resnet, methods"
   ]
  },
  {
   "cell_type": "code",
   "execution_count": 6,
   "metadata": {},
   "outputs": [],
   "source": [
    "sys.path.append(helper_dir)\n",
    "from dataset import load_dataset, DatasetWrapper, manip_dataset, get_deletion_set"
   ]
  },
  {
   "cell_type": "code",
   "execution_count": 7,
   "metadata": {},
   "outputs": [],
   "source": [
    "torch.multiprocessing.set_sharing_strategy('file_system')\n",
    "seed_everything(seed=3017)\n",
    "assert(torch.cuda.is_available())"
   ]
  },
  {
   "cell_type": "code",
   "execution_count": 8,
   "metadata": {},
   "outputs": [],
   "source": [
    " # Main Arguments\n",
    "dataset = 'CIFAR10' # type=str, default='CIFAR10', choices=['CIFAR10','CIFAR100','PCAM', 'LFWPeople', 'CelebA', 'DermNet', 'Pneumonia'])\n",
    "model ='resnet9' # type=str, default='resnet9', choices=['resnet9', 'resnet20', 'resnet32', 'resnet44', 'resnet56', 'resnet110', 'resnetwide28x10', 'vitb16'])\n",
    "dataset_method = 'poisoning' # type=str, default='poisoning', choices=['randomlabelswap', 'interclasslabelswap', 'poisoning']\n",
    "# 'poisoning': all with trigger -> class=0\n",
    "unlearn_method = 'FlippingInfluence' # type=str, default='Naive', choices=['Naive', 'EU', 'CF', 'Scrub', 'BadT', 'SSD', 'ActivationClustering', 'SpectralSignature', 'InfluenceFunction'], help='Method for unlearning')\n",
    "num_classes = 10 # type=int, default=10, choices=[2, 10, 100], help='Number of Classes')\n",
    "forget_set_size = 500 # type=int, default=500, help='Number of samples to be manipulated')\n",
    "patch_size = 3 # type=int, default=3, help='Creates a patch of size patch_size x patch_size for poisoning at bottom right corner of image')\n",
    "deletion_size = None # type=int, default=None, help='Number of samples to be deleted')\n",
    "\n",
    "# Optimizer Params\n",
    "batch_size = 512 # type=int, default=512, help='input batch size for training (default: 128)')\n",
    "pretrain_iters = 7500 # type=int, default=7500, help='number of epochs to train (default: 31)')\n",
    "pretrain_lr = 0.025 # type=float, default=0.025, help='learning rate (default: 0.025)')\n",
    "wd = 0.0005 # type=float, default=0.0005, help='learning rate (default: 0.01)')\n",
    "# unlearn\n",
    "unlearn_iters = 1000 # type=int, default=1000, help='number of epochs to train (default: 31)')\n",
    "unlearn_lr =  0.025 # type=float, default=0.025, help='learning rate (default: 0.025)')\n",
    "\n",
    "k = -1\n",
    "kd_T = 4\n",
    "alpha = 0.001\n",
    "msteps = 400\n",
    "\n",
    "# Defaults\n",
    "data_dir = '/data/andy_lee/github/test/corrective-unlearning-bench/files/data/' # type=str, default='../data/')\n",
    "save_dir = '/data/andy_lee/github/test/corrective-unlearning-bench/files/logs/' # type=str, default='../logs/')\n",
    "exp_name = 'unlearn' # type=str, default='unlearn')\n",
    "device = 'cuda' # type=str, default='cuda')"
   ]
  },
  {
   "cell_type": "code",
   "execution_count": 9,
   "metadata": {},
   "outputs": [],
   "source": [
    "class args_specify:\n",
    "  def __init__(\n",
    "        self,\n",
    "        dataset,\n",
    "        model,\n",
    "        dataset_method,\n",
    "        unlearn_method,\n",
    "        num_classes,\n",
    "        forget_set_size,\n",
    "        patch_size,\n",
    "        deletion_size,\n",
    "        batch_size,\n",
    "        pretrain_iters,\n",
    "        pretrain_lr,\n",
    "        wd,\n",
    "        unlearn_iters,\n",
    "        unlearn_lr,\n",
    "        data_dir,\n",
    "        save_dir,\n",
    "        k,\n",
    "        kd_T,\n",
    "        alpha,\n",
    "        msteps,\n",
    "        exp_name,\n",
    "        device=\"cuda\" if torch.cuda.is_available() else \"cpu\",\n",
    "    ):\n",
    "        self.dataset = dataset\n",
    "        self.model = model\n",
    "        self.dataset_method = dataset_method\n",
    "        self.unlearn_method = unlearn_method\n",
    "        self.num_classes = num_classes\n",
    "        self.forget_set_size = forget_set_size\n",
    "        self.patch_size = patch_size\n",
    "        self.deletion_size = deletion_size\n",
    "        self.batch_size = batch_size\n",
    "        self.pretrain_iters = pretrain_iters\n",
    "        self.pretrain_lr = pretrain_lr\n",
    "        self.wd = wd\n",
    "        self.unlearn_iters = unlearn_iters\n",
    "        self.unlearn_lr = unlearn_lr\n",
    "        self.data_dir = data_dir\n",
    "        self.save_dir = save_dir\n",
    "        self.exp_name = exp_name\n",
    "        self.k = k\n",
    "        self.kd_T = kd_T\n",
    "        self.alpha = alpha\n",
    "        self.msteps = msteps\n",
    "        self.device = device\n",
    "opt = args_specify(\n",
    "    dataset,\n",
    "    model,\n",
    "    dataset_method,\n",
    "    unlearn_method,\n",
    "    num_classes,\n",
    "    forget_set_size,\n",
    "    patch_size,\n",
    "    deletion_size,\n",
    "    batch_size,\n",
    "    pretrain_iters,\n",
    "    pretrain_lr,\n",
    "    wd,\n",
    "    unlearn_iters,\n",
    "    unlearn_lr,\n",
    "    data_dir,\n",
    "    save_dir,\n",
    "    k,\n",
    "    kd_T,\n",
    "    alpha,\n",
    "    msteps,\n",
    "    exp_name,\n",
    "    device\n",
    ")"
   ]
  },
  {
   "cell_type": "code",
   "execution_count": 10,
   "metadata": {},
   "outputs": [
    {
     "data": {
      "text/plain": [
       "0.025"
      ]
     },
     "execution_count": 10,
     "metadata": {},
     "output_type": "execute_result"
    }
   ],
   "source": [
    "opt.unlearn_lr"
   ]
  },
  {
   "cell_type": "code",
   "execution_count": 11,
   "metadata": {},
   "outputs": [
    {
     "data": {
      "text/plain": [
       "('resnet9', 'poisoning', 500)"
      ]
     },
     "execution_count": 11,
     "metadata": {},
     "output_type": "execute_result"
    }
   ],
   "source": [
    "opt.model, opt.dataset_method, opt.forget_set_size"
   ]
  },
  {
   "cell_type": "code",
   "execution_count": 12,
   "metadata": {},
   "outputs": [
    {
     "name": "stdout",
     "output_type": "stream",
     "text": [
      "Files already downloaded and verified\n",
      "Files already downloaded and verified\n",
      "Files already downloaded and verified\n",
      "==> Loaded the dataset! (clean)\n"
     ]
    }
   ],
   "source": [
    "# Get model\n",
    "model = getattr(resnet, opt.model)(opt.num_classes).cuda()\n",
    "# model\n",
    "# Get dataloaders done\n",
    "train_set, train_noaug_set, test_set, train_labels, max_val = load_dataset(dataset=opt.dataset, root=opt.data_dir)\n",
    "test_loader = torch.utils.data.DataLoader(test_set, batch_size=opt.batch_size, shuffle=False, num_workers=4, pin_memory=True)\n",
    "manip_dict, manip_idx, untouched_idx = manip_dataset(dataset=opt.dataset, train_labels=train_labels, method=opt.dataset_method, manip_set_size=opt.forget_set_size, save_dir=opt.save_dir)\n",
    "# manip_idx_path = save_dir+'/'+dataset+'_'+method+'_'+str(manip_set_size)+'_manip.npy'\n",
    "print('==> Loaded the dataset! (clean)')"
   ]
  },
  {
   "cell_type": "code",
   "execution_count": 13,
   "metadata": {},
   "outputs": [],
   "source": [
    "wtrain_noaug_cleanL_set = DatasetWrapper(train_noaug_set, manip_dict, mode='test')\n",
    "train_test_loader = torch.utils.data.DataLoader(wtrain_noaug_cleanL_set, batch_size=opt.batch_size, shuffle=False, num_workers=4, pin_memory=True)\n",
    "untouched_noaug_cleanL_loader = torch.utils.data.DataLoader(wtrain_noaug_cleanL_set, batch_size=opt.batch_size, shuffle=False, sampler=SubsetSequentialSampler(untouched_idx), num_workers=4, pin_memory=True)\n",
    "manip_noaug_cleanL_loader = torch.utils.data.DataLoader(wtrain_noaug_cleanL_set, batch_size=opt.batch_size, shuffle=False, sampler=SubsetSequentialSampler(manip_idx), num_workers=4, pin_memory=True)\n",
    "eval_loaders = {}\n",
    "if opt.dataset_method == 'poisoning':\n",
    "    corrupt_val = np.array(max_val)\n",
    "    corrupt_size = opt.patch_size\n",
    "    wtrain_noaug_adv_cleanL_set = DatasetWrapper(train_noaug_set, manip_dict, mode='test_adversarial', corrupt_val=corrupt_val, corrupt_size=corrupt_size)\n",
    "    adversarial_train_loader = torch.utils.data.DataLoader(wtrain_noaug_adv_cleanL_set, batch_size=opt.batch_size, shuffle=True, num_workers=4, pin_memory=True)\n",
    "    untouched_noaug_cleanL_loader = torch.utils.data.DataLoader(wtrain_noaug_adv_cleanL_set, batch_size=opt.batch_size, shuffle=False, sampler=SubsetSequentialSampler(untouched_idx), num_workers=4, pin_memory=True)\n",
    "    manip_noaug_cleanL_loader = torch.utils.data.DataLoader(wtrain_noaug_adv_cleanL_set, batch_size=opt.batch_size, shuffle=False, sampler=SubsetSequentialSampler(manip_idx), num_workers=4, pin_memory=True)\n",
    "    wtest_adv_cleanL_set = DatasetWrapper(test_set, manip_dict, mode='test_adversarial', corrupt_val=corrupt_val, corrupt_size=corrupt_size)\n",
    "    adversarial_test_loader = torch.utils.data.DataLoader(wtest_adv_cleanL_set, batch_size=opt.batch_size, shuffle=True, num_workers=4, pin_memory=True)\n",
    "    eval_loaders['adv_test'] = adversarial_test_loader\n",
    "else:\n",
    "    adversarial_train_loader, adversarial_test_loader, corrupt_val, corrupt_size = None, None, None, None"
   ]
  },
  {
   "cell_type": "code",
   "execution_count": 14,
   "metadata": {},
   "outputs": [],
   "source": [
    "eval_loaders['manip'] = manip_noaug_cleanL_loader\n",
    "if opt.dataset_method == 'interclasslabelswap':\n",
    "    classes = get_targeted_classes(opt.dataset)\n",
    "    indices = []\n",
    "    for batch_idx, (data, target) in enumerate(test_loader):\n",
    "        matching_indices = (target == classes[0]) | (target == classes[1])\n",
    "        absolute_indices = batch_idx * test_loader.batch_size + torch.where(matching_indices)[0]\n",
    "        indices.extend(absolute_indices.tolist())\n",
    "    eval_loaders['unseen_forget'] = torch.utils.data.DataLoader(test_set, batch_size=opt.batch_size, shuffle=False, sampler=SubsetSequentialSampler(indices), num_workers=4, pin_memory=True)\n",
    "\n",
    "wtrain_manip_set = DatasetWrapper(train_set, manip_dict, mode='pretrain', corrupt_val=corrupt_val, corrupt_size=corrupt_size)\n",
    "pretrain_loader = torch.utils.data.DataLoader(wtrain_manip_set, batch_size=opt.batch_size, shuffle=True, num_workers=4, pin_memory=True)"
   ]
  },
  {
   "cell_type": "markdown",
   "metadata": {},
   "source": [
    "Pretraining"
   ]
  },
  {
   "cell_type": "code",
   "execution_count": 15,
   "metadata": {},
   "outputs": [
    {
     "name": "stdout",
     "output_type": "stream",
     "text": [
      "==> Loading the pretrained model!\n",
      "==> Loaded the pretrained model!\n"
     ]
    }
   ],
   "source": [
    "# Stage 1: Pretraining\n",
    "opt.pretrain_file_prefix = opt.save_dir+'/'+opt.dataset+'_'+opt.model+'_'+opt.dataset_method+'_'+str(opt.forget_set_size)+'_'+str(opt.patch_size)+'_'+str(opt.pretrain_iters)+'_'+str(opt.pretrain_lr)\n",
    "if not exists(opt.pretrain_file_prefix):makedirs(opt.pretrain_file_prefix)\n",
    "\n",
    "if not exists(opt.pretrain_file_prefix + '/Naive_pretrainmodel/model.pth'):\n",
    "    opt.max_lr, opt.train_iters, expname, unlearn_method = opt.pretrain_lr, opt.pretrain_iters, opt.exp_name, opt.unlearn_method\n",
    "    \n",
    "    #We now actually pretrain by calling unlearn(), misnomer\n",
    "    opt.unlearn_method, opt.exp_name = 'Naive', 'pretrainmodel'\n",
    "    method = getattr(methods, opt.unlearn_method)(opt=opt, model=model)\n",
    "    method.unlearn(train_loader=pretrain_loader, test_loader=test_loader)\n",
    "    method.compute_and_save_results(train_test_loader, test_loader, adversarial_train_loader, adversarial_test_loader)\n",
    "    opt.exp_name, opt.unlearn_method = expname, unlearn_method  \n",
    "else:\n",
    "    print('==> Loading the pretrained model!')\n",
    "    model.load_state_dict(torch.load(opt.pretrain_file_prefix + '/Naive_pretrainmodel/model.pth'))\n",
    "    model.to(opt.device)\n",
    "    print('==> Loaded the pretrained model!')"
   ]
  },
  {
   "cell_type": "code",
   "execution_count": 16,
   "metadata": {},
   "outputs": [],
   "source": [
    "#forget set\n",
    "if opt.deletion_size is None:\n",
    "    opt.deletion_size = opt.forget_set_size\n",
    "forget_idx, retain_idx = get_deletion_set(opt.deletion_size, manip_dict, train_size=len(train_labels), dataset=opt.dataset, method=opt.dataset_method, save_dir=opt.save_dir)    \n",
    "opt.max_lr, opt.train_iters = opt.unlearn_lr, opt.unlearn_iters \n",
    "if opt.deletion_size != len(manip_dict):\n",
    "    delete_noaug_cleanL_loader = torch.utils.data.DataLoader(wtrain_noaug_cleanL_set, batch_size=opt.batch_size, shuffle=False, sampler=SubsetSequentialSampler(forget_idx), num_workers=4, pin_memory=True)\n",
    "    if opt.dataset_method == 'poisoning':\n",
    "        delete_noaug_cleanL_loader = torch.utils.data.DataLoader(wtrain_noaug_adv_cleanL_set, batch_size=opt.batch_size, shuffle=False, sampler=SubsetSequentialSampler(forget_idx), num_workers=4, pin_memory=True)\n",
    "    eval_loaders['delete'] = delete_noaug_cleanL_loader"
   ]
  },
  {
   "cell_type": "code",
   "execution_count": 17,
   "metadata": {},
   "outputs": [],
   "source": [
    "from torch.utils.data.sampler import SubsetRandomSampler"
   ]
  },
  {
   "cell_type": "code",
   "execution_count": 18,
   "metadata": {},
   "outputs": [
    {
     "data": {
      "text/plain": [
       "(0.025, 1000, 'FlippingInfluence', 0.025)"
      ]
     },
     "execution_count": 18,
     "metadata": {},
     "output_type": "execute_result"
    }
   ],
   "source": [
    "opt.unlearn_lr, opt.unlearn_iters, opt.unlearn_method, opt.max_lr"
   ]
  },
  {
   "cell_type": "code",
   "execution_count": 19,
   "metadata": {},
   "outputs": [],
   "source": [
    "# Stage 2: Unlearning\n",
    "method = getattr(methods, 'ApplyK')(opt=opt, model=model) if opt.unlearn_method in ['EU', 'CF'] else getattr(methods, opt.unlearn_method)(opt=opt, model=model)\n",
    "\n",
    "wtrain_delete_set = DatasetWrapper(train_set, manip_dict, mode='pretrain', corrupt_val=corrupt_val, corrupt_size=corrupt_size, delete_idx=forget_idx)\n",
    "# Get the dataloaders\n",
    "retain_loader = torch.utils.data.DataLoader(wtrain_delete_set, batch_size=opt.batch_size, shuffle=False, sampler=SubsetRandomSampler(retain_idx), num_workers=4, pin_memory=True)\n",
    "train_loader = torch.utils.data.DataLoader(wtrain_delete_set, batch_size=opt.batch_size, shuffle=True, num_workers=4, pin_memory=True)\n",
    "train_loader_no_shuffle = torch.utils.data.DataLoader(wtrain_delete_set, batch_size=opt.batch_size, shuffle=False, num_workers=4, pin_memory=True)\n",
    "forget_loader = torch.utils.data.DataLoader(wtrain_delete_set, batch_size=opt.batch_size, shuffle=False, sampler=SubsetRandomSampler(forget_idx), num_workers=4, pin_memory=True)"
   ]
  },
  {
   "cell_type": "code",
   "execution_count": 20,
   "metadata": {},
   "outputs": [
    {
     "name": "stdout",
     "output_type": "stream",
     "text": [
      "There are in total 500 poisons\n",
      "Randomly select 10.0% of them to form the deletion set...\n"
     ]
    }
   ],
   "source": [
    "# all poisons\n",
    "print(f\"There are in total {len(forget_idx)} poisons\")\n",
    "# assume we know 10% of these poisons \n",
    "# deletion set\n",
    "known_percentage = 0.1\n",
    "print(f\"Randomly select {known_percentage * 100}% of them to form the deletion set...\")\n",
    "forget_idx_np = forget_idx.numpy()\n",
    "np.random.shuffle(forget_idx_np)\n",
    "delete_idx = torch.tensor(forget_idx_np[:int(known_percentage * len(forget_idx_np))])\n",
    "delete_loader = torch.utils.data.DataLoader(wtrain_delete_set, batch_size=opt.batch_size, shuffle=False, sampler=SubsetRandomSampler(delete_idx), num_workers=4, pin_memory=True)"
   ]
  },
  {
   "cell_type": "code",
   "execution_count": 21,
   "metadata": {},
   "outputs": [
    {
     "name": "stderr",
     "output_type": "stream",
     "text": [
      "Fitting covariance matrices [1000/1000] 100%|██████████ [time left: 00:00, time spent: 00:25]\n",
      "Performing Eigendecomposition [9/9] 100%|██████████ [time left: 00:00, time spent: 00:00]\n",
      "Fitting Lambda matrices [1000/1000] 100%|██████████ [time left: 00:00, time spent: 00:40]\n",
      "Computing pairwise scores (training gradient) [1/1] 100%|██████████ [time left: 00:00, time spent: 00:00]\n",
      "Computing pairwise scores (query gradient) [1/1] 100%|██████████ [time left: 00:00, time spent: 00:01]\n",
      "Computing pairwise scores (training gradient) [13/13] 100%|██████████ [time left: 00:00, time spent: 00:09]\n",
      "Computing pairwise scores (query gradient) [1/1] 100%|██████████ [time left: 00:00, time spent: 00:09]\n",
      "Computing pairwise scores (training gradient) [1/1] 100%|██████████ [time left: 00:00, time spent: 00:00]\n",
      "Computing pairwise scores (query gradient) [1/1] 100%|██████████ [time left: 00:00, time spent: 00:01]\n",
      "Computing pairwise scores (training gradient) [13/13] 100%|██████████ [time left: 00:00, time spent: 00:09]\n",
      "Computing pairwise scores (query gradient) [1/1] 100%|██████████ [time left: 00:00, time spent: 00:09]\n",
      "/data/andy_lee/github/test/corrective-unlearning-bench/src/methods.py:777: UserWarning: To copy construct from a tensor, it is recommended to use sourceTensor.clone().detach() or sourceTensor.clone().detach().requires_grad_(True), rather than torch.tensor(sourceTensor).\n",
      "  collected_targets = torch.tensor(collected_targets)\n"
     ]
    },
    {
     "name": "stdout",
     "output_type": "stream",
     "text": [
      "remove samples: (533)\n",
      "45059\n",
      "6\n",
      "12294\n",
      "4106\n",
      "34827\n",
      "45067\n",
      "49176\n",
      "32\n",
      "38\n",
      "26662\n",
      "6185\n",
      "49194\n",
      "4147\n",
      "38964\n",
      "57\n",
      "12353\n",
      "20547\n",
      "10321\n",
      "45146\n",
      "36955\n",
      "4190\n",
      "45165\n",
      "14456\n",
      "28792\n",
      "45179\n",
      "22652\n",
      "41085\n",
      "10370\n",
      "4229\n",
      "26757\n",
      "47244\n",
      "6292\n",
      "22676\n",
      "4246\n",
      "2199\n",
      "155\n",
      "18596\n",
      "22693\n",
      "45224\n",
      "49322\n",
      "4268\n",
      "173\n",
      "14511\n",
      "4273\n",
      "14517\n",
      "6326\n",
      "14519\n",
      "22711\n",
      "47294\n",
      "6337\n",
      "12481\n",
      "39108\n",
      "30920\n",
      "43209\n",
      "28877\n",
      "10446\n",
      "45261\n",
      "6353\n",
      "4306\n",
      "16600\n",
      "35035\n",
      "220\n",
      "8413\n",
      "24798\n",
      "49374\n",
      "32997\n",
      "14566\n",
      "10472\n",
      "22761\n",
      "49387\n",
      "47340\n",
      "8431\n",
      "24817\n",
      "45298\n",
      "33014\n",
      "24828\n",
      "41213\n",
      "35072\n",
      "43274\n",
      "45322\n",
      "41229\n",
      "20750\n",
      "271\n",
      "22806\n",
      "12579\n",
      "41258\n",
      "47405\n",
      "39219\n",
      "10550\n",
      "8503\n",
      "28983\n",
      "12611\n",
      "14659\n",
      "33094\n",
      "37191\n",
      "39245\n",
      "49485\n",
      "6489\n",
      "47449\n",
      "6497\n",
      "39275\n",
      "39283\n",
      "45429\n",
      "33143\n",
      "383\n",
      "2437\n",
      "29065\n",
      "22923\n",
      "33181\n",
      "6560\n",
      "14754\n",
      "37284\n",
      "6574\n",
      "16818\n",
      "25012\n",
      "22965\n",
      "29110\n",
      "16823\n",
      "27064\n",
      "33206\n",
      "449\n",
      "18883\n",
      "47555\n",
      "22981\n",
      "49610\n",
      "35282\n",
      "10707\n",
      "39382\n",
      "14811\n",
      "20958\n",
      "23014\n",
      "47591\n",
      "27113\n",
      "39402\n",
      "31211\n",
      "29167\n",
      "2558\n",
      "8721\n",
      "12820\n",
      "45590\n",
      "537\n",
      "18976\n",
      "45602\n",
      "4643\n",
      "39461\n",
      "10793\n",
      "10797\n",
      "2607\n",
      "25135\n",
      "8757\n",
      "29238\n",
      "33333\n",
      "6712\n",
      "47674\n",
      "47677\n",
      "21062\n",
      "19024\n",
      "16979\n",
      "8788\n",
      "43609\n",
      "12891\n",
      "31325\n",
      "39526\n",
      "43624\n",
      "41577\n",
      "33387\n",
      "17004\n",
      "33396\n",
      "47743\n",
      "14976\n",
      "6787\n",
      "33415\n",
      "29321\n",
      "37515\n",
      "19084\n",
      "12941\n",
      "25235\n",
      "33427\n",
      "662\n",
      "2711\n",
      "8866\n",
      "31397\n",
      "10920\n",
      "12976\n",
      "17075\n",
      "6839\n",
      "12983\n",
      "29374\n",
      "2751\n",
      "25279\n",
      "47817\n",
      "39628\n",
      "45774\n",
      "45775\n",
      "41680\n",
      "2773\n",
      "37601\n",
      "15077\n",
      "15078\n",
      "743\n",
      "27373\n",
      "750\n",
      "37623\n",
      "15096\n",
      "33530\n",
      "39682\n",
      "33545\n",
      "784\n",
      "11030\n",
      "43800\n",
      "23321\n",
      "35628\n",
      "41779\n",
      "11064\n",
      "825\n",
      "43845\n",
      "19276\n",
      "41806\n",
      "19284\n",
      "4950\n",
      "4953\n",
      "47965\n",
      "4959\n",
      "35679\n",
      "39775\n",
      "17256\n",
      "27497\n",
      "39787\n",
      "9069\n",
      "37745\n",
      "17268\n",
      "48001\n",
      "23430\n",
      "13194\n",
      "25484\n",
      "915\n",
      "29587\n",
      "37785\n",
      "45986\n",
      "48041\n",
      "15275\n",
      "43947\n",
      "5038\n",
      "25523\n",
      "21429\n",
      "956\n",
      "43966\n",
      "23495\n",
      "969\n",
      "46026\n",
      "975\n",
      "33743\n",
      "46034\n",
      "35795\n",
      "43994\n",
      "987\n",
      "25570\n",
      "35830\n",
      "48130\n",
      "3075\n",
      "31749\n",
      "3080\n",
      "23560\n",
      "7181\n",
      "48144\n",
      "21521\n",
      "44053\n",
      "39967\n",
      "46118\n",
      "15404\n",
      "1085\n",
      "3136\n",
      "15425\n",
      "44098\n",
      "17476\n",
      "27721\n",
      "17484\n",
      "5197\n",
      "21584\n",
      "42073\n",
      "17501\n",
      "19557\n",
      "7270\n",
      "17514\n",
      "37995\n",
      "11375\n",
      "17526\n",
      "23675\n",
      "33918\n",
      "5252\n",
      "29828\n",
      "19591\n",
      "1163\n",
      "27797\n",
      "33942\n",
      "3225\n",
      "31900\n",
      "1183\n",
      "7330\n",
      "23715\n",
      "27812\n",
      "33957\n",
      "27816\n",
      "23725\n",
      "7342\n",
      "31917\n",
      "11440\n",
      "33968\n",
      "29878\n",
      "36022\n",
      "31933\n",
      "9409\n",
      "29890\n",
      "33985\n",
      "40129\n",
      "7377\n",
      "34001\n",
      "46290\n",
      "31956\n",
      "46298\n",
      "1246\n",
      "48355\n",
      "23781\n",
      "19697\n",
      "13554\n",
      "19703\n",
      "44279\n",
      "7419\n",
      "21756\n",
      "21758\n",
      "40192\n",
      "23809\n",
      "38147\n",
      "36107\n",
      "9485\n",
      "40207\n",
      "15635\n",
      "34067\n",
      "38163\n",
      "40212\n",
      "5399\n",
      "48407\n",
      "32025\n",
      "23839\n",
      "42280\n",
      "38187\n",
      "3372\n",
      "17710\n",
      "27953\n",
      "17717\n",
      "11576\n",
      "27961\n",
      "27971\n",
      "5459\n",
      "21858\n",
      "1381\n",
      "21874\n",
      "30067\n",
      "42358\n",
      "30072\n",
      "9593\n",
      "48507\n",
      "9598\n",
      "21888\n",
      "44420\n",
      "28037\n",
      "3470\n",
      "28052\n",
      "3482\n",
      "42396\n",
      "9630\n",
      "36255\n",
      "17828\n",
      "46501\n",
      "15782\n",
      "34223\n",
      "36272\n",
      "42416\n",
      "17845\n",
      "3511\n",
      "38327\n",
      "44475\n",
      "17854\n",
      "34246\n",
      "32199\n",
      "42438\n",
      "21962\n",
      "17870\n",
      "13778\n",
      "7654\n",
      "30184\n",
      "1521\n",
      "48625\n",
      "22003\n",
      "13813\n",
      "46588\n",
      "19970\n",
      "17926\n",
      "7687\n",
      "19984\n",
      "19987\n",
      "30228\n",
      "28183\n",
      "7705\n",
      "48667\n",
      "9760\n",
      "32288\n",
      "1570\n",
      "22051\n",
      "13862\n",
      "48681\n",
      "13866\n",
      "46634\n",
      "17964\n",
      "38446\n",
      "7728\n",
      "24113\n",
      "3635\n",
      "30265\n",
      "22076\n",
      "32322\n",
      "36418\n",
      "1604\n",
      "38474\n",
      "36429\n",
      "28239\n",
      "11856\n",
      "26192\n",
      "34391\n",
      "7774\n",
      "13920\n",
      "48738\n",
      "42596\n",
      "38506\n",
      "18030\n",
      "7795\n",
      "11892\n",
      "13941\n",
      "18037\n",
      "26227\n",
      "36480\n",
      "42628\n",
      "11911\n",
      "36489\n",
      "36491\n",
      "28305\n",
      "46743\n",
      "46745\n",
      "40615\n",
      "22187\n",
      "36525\n",
      "1713\n",
      "1714\n",
      "5815\n",
      "14012\n",
      "26306\n",
      "22216\n",
      "3788\n",
      "5846\n",
      "32471\n",
      "3815\n",
      "3816\n",
      "9961\n",
      "16103\n",
      "22249\n",
      "32489\n",
      "32492\n",
      "36593\n",
      "40692\n",
      "28408\n",
      "26362\n",
      "34556\n",
      "1790\n",
      "30462\n",
      "34558\n",
      "12033\n",
      "10008\n",
      "18212\n",
      "18213\n",
      "28454\n",
      "38692\n",
      "5928\n",
      "46891\n",
      "34605\n",
      "1841\n",
      "5940\n",
      "14136\n",
      "36667\n",
      "3905\n",
      "8004\n",
      "38729\n",
      "16219\n",
      "10076\n",
      "20319\n",
      "34657\n",
      "32616\n",
      "1903\n",
      "28533\n",
      "26492\n",
      "49024\n",
      "16258\n",
      "10115\n",
      "18306\n",
      "20355\n",
      "30597\n",
      "34695\n",
      "3979\n",
      "1936\n",
      "32657\n",
      "22418\n",
      "38808\n",
      "49059\n",
      "1959\n",
      "32689\n",
      "1972\n",
      "44987\n",
      "42945\n",
      "38863\n",
      "8144\n",
      "22487\n",
      "38876\n",
      "10205\n",
      "38878\n",
      "4064\n",
      "8162\n",
      "30695\n",
      "6126\n",
      "16368\n",
      "16370\n",
      "38903\n",
      "49144\n",
      "28668\n",
      "18431\n"
     ]
    },
    {
     "name": "stderr",
     "output_type": "stream",
     "text": [
      "100%|██████████| 97/97 [00:01<00:00, 50.16it/s]\n"
     ]
    },
    {
     "name": "stdout",
     "output_type": "stream",
     "text": [
      "Step: 97 Train Top1: 0.992\n"
     ]
    },
    {
     "name": "stderr",
     "output_type": "stream",
     "text": [
      "100%|██████████| 20/20 [00:00<00:00, 29.11it/s]\n"
     ]
    },
    {
     "name": "stdout",
     "output_type": "stream",
     "text": [
      "Step: 97 Val Top1: 85.57\n"
     ]
    },
    {
     "name": "stderr",
     "output_type": "stream",
     "text": [
      "100%|██████████| 97/97 [00:01<00:00, 56.25it/s]\n"
     ]
    },
    {
     "name": "stdout",
     "output_type": "stream",
     "text": [
      "Step: 194 Train Top1: 0.962\n"
     ]
    },
    {
     "name": "stderr",
     "output_type": "stream",
     "text": [
      "100%|██████████| 20/20 [00:00<00:00, 30.53it/s]\n"
     ]
    },
    {
     "name": "stdout",
     "output_type": "stream",
     "text": [
      "Step: 194 Val Top1: 87.57\n"
     ]
    },
    {
     "name": "stderr",
     "output_type": "stream",
     "text": [
      "100%|██████████| 97/97 [00:01<00:00, 55.90it/s]\n"
     ]
    },
    {
     "name": "stdout",
     "output_type": "stream",
     "text": [
      "Step: 291 Train Top1: 0.987\n"
     ]
    },
    {
     "name": "stderr",
     "output_type": "stream",
     "text": [
      "100%|██████████| 20/20 [00:00<00:00, 29.76it/s]\n"
     ]
    },
    {
     "name": "stdout",
     "output_type": "stream",
     "text": [
      "Step: 291 Val Top1: 89.98\n"
     ]
    },
    {
     "name": "stderr",
     "output_type": "stream",
     "text": [
      "100%|██████████| 97/97 [00:01<00:00, 56.14it/s]\n"
     ]
    },
    {
     "name": "stdout",
     "output_type": "stream",
     "text": [
      "Step: 388 Train Top1: 0.999\n"
     ]
    },
    {
     "name": "stderr",
     "output_type": "stream",
     "text": [
      "100%|██████████| 20/20 [00:00<00:00, 29.35it/s]\n"
     ]
    },
    {
     "name": "stdout",
     "output_type": "stream",
     "text": [
      "Step: 388 Val Top1: 91.25\n"
     ]
    },
    {
     "name": "stderr",
     "output_type": "stream",
     "text": [
      "100%|██████████| 97/97 [00:01<00:00, 56.38it/s]\n"
     ]
    },
    {
     "name": "stdout",
     "output_type": "stream",
     "text": [
      "Step: 485 Train Top1: 1.000\n"
     ]
    },
    {
     "name": "stderr",
     "output_type": "stream",
     "text": [
      "100%|██████████| 20/20 [00:00<00:00, 29.71it/s]\n"
     ]
    },
    {
     "name": "stdout",
     "output_type": "stream",
     "text": [
      "Step: 485 Val Top1: 91.68\n"
     ]
    },
    {
     "name": "stderr",
     "output_type": "stream",
     "text": [
      "100%|██████████| 97/97 [00:01<00:00, 54.86it/s]\n"
     ]
    },
    {
     "name": "stdout",
     "output_type": "stream",
     "text": [
      "Step: 582 Train Top1: 1.000\n"
     ]
    },
    {
     "name": "stderr",
     "output_type": "stream",
     "text": [
      "100%|██████████| 20/20 [00:00<00:00, 29.50it/s]\n"
     ]
    },
    {
     "name": "stdout",
     "output_type": "stream",
     "text": [
      "Step: 582 Val Top1: 91.71\n"
     ]
    },
    {
     "name": "stderr",
     "output_type": "stream",
     "text": [
      "100%|██████████| 97/97 [00:01<00:00, 56.05it/s]\n"
     ]
    },
    {
     "name": "stdout",
     "output_type": "stream",
     "text": [
      "Step: 679 Train Top1: 1.000\n"
     ]
    },
    {
     "name": "stderr",
     "output_type": "stream",
     "text": [
      "100%|██████████| 20/20 [00:00<00:00, 29.35it/s]\n"
     ]
    },
    {
     "name": "stdout",
     "output_type": "stream",
     "text": [
      "Step: 679 Val Top1: 91.76\n"
     ]
    },
    {
     "name": "stderr",
     "output_type": "stream",
     "text": [
      "100%|██████████| 97/97 [00:01<00:00, 56.42it/s]\n"
     ]
    },
    {
     "name": "stdout",
     "output_type": "stream",
     "text": [
      "Step: 776 Train Top1: 1.000\n"
     ]
    },
    {
     "name": "stderr",
     "output_type": "stream",
     "text": [
      "100%|██████████| 20/20 [00:00<00:00, 29.74it/s]\n"
     ]
    },
    {
     "name": "stdout",
     "output_type": "stream",
     "text": [
      "Step: 776 Val Top1: 91.69\n"
     ]
    },
    {
     "name": "stderr",
     "output_type": "stream",
     "text": [
      "100%|██████████| 97/97 [00:01<00:00, 55.29it/s]\n"
     ]
    },
    {
     "name": "stdout",
     "output_type": "stream",
     "text": [
      "Step: 873 Train Top1: 1.000\n"
     ]
    },
    {
     "name": "stderr",
     "output_type": "stream",
     "text": [
      "100%|██████████| 20/20 [00:00<00:00, 28.41it/s]\n"
     ]
    },
    {
     "name": "stdout",
     "output_type": "stream",
     "text": [
      "Step: 873 Val Top1: 91.80\n"
     ]
    },
    {
     "name": "stderr",
     "output_type": "stream",
     "text": [
      "100%|██████████| 97/97 [00:01<00:00, 54.96it/s]\n"
     ]
    },
    {
     "name": "stdout",
     "output_type": "stream",
     "text": [
      "Step: 970 Train Top1: 1.000\n"
     ]
    },
    {
     "name": "stderr",
     "output_type": "stream",
     "text": [
      "100%|██████████| 20/20 [00:00<00:00, 27.97it/s]\n"
     ]
    },
    {
     "name": "stdout",
     "output_type": "stream",
     "text": [
      "Step: 970 Val Top1: 91.74\n"
     ]
    },
    {
     "name": "stderr",
     "output_type": "stream",
     "text": [
      " 31%|███       | 30/97 [00:00<00:01, 52.58it/s]\n"
     ]
    },
    {
     "name": "stdout",
     "output_type": "stream",
     "text": [
      "Step: 1001 Train Top1: 1.000\n"
     ]
    },
    {
     "name": "stderr",
     "output_type": "stream",
     "text": [
      "100%|██████████| 20/20 [00:00<00:00, 27.81it/s]\n"
     ]
    },
    {
     "name": "stdout",
     "output_type": "stream",
     "text": [
      "Step: 1001 Val Top1: 91.72\n",
      "/data/andy_lee/github/test/corrective-unlearning-bench/files/logs//CIFAR10_resnet9_poisoning_500_3_7500_0.025/500_FlippingInfluence_unlearn_1000_-1_4_0.001_400\n",
      "==> Completed! Unlearning Time: [0.000]\t\n"
     ]
    },
    {
     "name": "stderr",
     "output_type": "stream",
     "text": [
      "100%|██████████| 98/98 [00:02<00:00, 35.48it/s]\n",
      "100%|██████████| 20/20 [00:00<00:00, 21.32it/s]\n",
      "100%|██████████| 98/98 [00:02<00:00, 33.12it/s]\n",
      "100%|██████████| 20/20 [00:00<00:00, 20.31it/s]"
     ]
    },
    {
     "name": "stdout",
     "output_type": "stream",
     "text": [
      "==> Experiment completed! Exiting..\n"
     ]
    },
    {
     "name": "stderr",
     "output_type": "stream",
     "text": [
      "\n"
     ]
    }
   ],
   "source": [
    "# start detection & unlearning\n",
    "if opt.unlearn_method in ['Naive', 'EU', 'CF', 'SpectralSignature']:\n",
    "    method.unlearn(train_loader=retain_loader, test_loader=test_loader, eval_loaders=eval_loaders)\n",
    "elif opt.unlearn_method in ['BadT']:\n",
    "    method.unlearn(train_loader=train_loader, test_loader=test_loader, eval_loaders=eval_loaders)\n",
    "elif opt.unlearn_method in ['Scrub', 'SSD', 'ActivationClustering']:\n",
    "    method.unlearn(train_loader=retain_loader, test_loader=test_loader, forget_loader=forget_loader, eval_loaders=eval_loaders)\n",
    "elif opt.unlearn_method in ['InfluenceFunction']:\n",
    "    method.unlearn(train_loader=train_loader, test_loader=test_loader)\n",
    "elif opt.unlearn_method in ['FlippingInfluence']:\n",
    "    # save detected indices\n",
    "    save_dir = '/data/andy_lee/github/test/corrective-unlearning-bench/files/poison_indices.npy'\n",
    "    n_tolerate = 2\n",
    "    method.unlearn(n_tolerate = n_tolerate, train_loader=train_loader_no_shuffle, test_loader=test_loader, deletion_loader=delete_loader, save_dir=save_dir) # no shuffle\n",
    "\n",
    "method.compute_and_save_results(train_test_loader, test_loader, adversarial_train_loader, adversarial_test_loader)\n",
    "print('==> Experiment completed! Exiting..')"
   ]
  },
  {
   "cell_type": "code",
   "execution_count": 25,
   "metadata": {},
   "outputs": [
    {
     "data": {
      "text/plain": [
       "(533,)"
      ]
     },
     "execution_count": 25,
     "metadata": {},
     "output_type": "execute_result"
    }
   ],
   "source": [
    "# load detected indices\n",
    "detected_indices = np.load(save_dir, allow_pickle=True)\n",
    "detected_indices.shape"
   ]
  },
  {
   "cell_type": "code",
   "execution_count": 26,
   "metadata": {},
   "outputs": [
    {
     "data": {
      "text/plain": [
       "array([    6,    32,    38,    57,   155,   173,   220,   271,   383,\n",
       "         449,   537,   662,   743,   750,   784,   825,   915,   956,\n",
       "         969,   975,   987,  1085,  1163,  1183,  1246,  1381,  1521,\n",
       "        1570,  1604,  1713,  1714,  1790,  1841,  1903,  1936,  1959,\n",
       "        1972,  2199,  2437,  2558,  2607,  2711,  2751,  2773,  3075,\n",
       "        3080,  3136,  3225,  3372,  3470,  3482,  3511,  3635,  3788,\n",
       "        3815,  3816,  3905,  3979,  4064,  4106,  4147,  4190,  4229,\n",
       "        4246,  4268,  4273,  4306,  4643,  4950,  4953,  4959,  5038,\n",
       "        5197,  5252,  5399,  5459,  5815,  5846,  5928,  5940,  6126,\n",
       "        6185,  6292,  6326,  6337,  6353,  6489,  6497,  6560,  6574,\n",
       "        6712,  6787,  6839,  7181,  7270,  7330,  7342,  7377,  7419,\n",
       "        7654,  7687,  7705,  7728,  7774,  7795,  8004,  8144,  8162,\n",
       "        8413,  8431,  8503,  8721,  8757,  8788,  8866,  9069,  9409,\n",
       "        9485,  9593,  9598,  9630,  9760,  9961, 10008, 10076, 10115,\n",
       "       10205, 10321, 10370, 10446, 10472, 10550, 10707, 10793, 10797,\n",
       "       10920, 11030, 11064, 11375, 11440, 11576, 11856, 11892, 11911,\n",
       "       12033, 12294, 12353, 12481, 12579, 12611, 12820, 12891, 12941,\n",
       "       12976, 12983, 13194, 13554, 13778, 13813, 13862, 13866, 13920,\n",
       "       13941, 14012, 14136, 14456, 14511, 14517, 14519, 14566, 14659,\n",
       "       14754, 14811, 14976, 15077, 15078, 15096, 15275, 15404, 15425,\n",
       "       15635, 15782, 16103, 16219, 16258, 16368, 16370, 16600, 16818,\n",
       "       16823, 16979, 17004, 17075, 17256, 17268, 17476, 17484, 17501,\n",
       "       17514, 17526, 17710, 17717, 17828, 17845, 17854, 17870, 17926,\n",
       "       17964, 18030, 18037, 18212, 18213, 18306, 18431, 18596, 18883,\n",
       "       18976, 19024, 19084, 19276, 19284, 19557, 19591, 19697, 19703,\n",
       "       19970, 19984, 19987, 20319, 20355, 20547, 20750, 20958, 21062,\n",
       "       21429, 21521, 21584, 21756, 21758, 21858, 21874, 21888, 21962,\n",
       "       22003, 22051, 22076, 22187, 22216, 22249, 22418, 22487, 22652,\n",
       "       22676, 22693, 22711, 22761, 22806, 22923, 22965, 22981, 23014,\n",
       "       23321, 23430, 23495, 23560, 23675, 23715, 23725, 23781, 23809,\n",
       "       23839, 24113, 24798, 24817, 24828, 25012, 25135, 25235, 25279,\n",
       "       25484, 25523, 25570, 26192, 26227, 26306, 26362, 26492, 26662,\n",
       "       26757, 27064, 27113, 27373, 27497, 27721, 27797, 27812, 27816,\n",
       "       27953, 27961, 27971, 28037, 28052, 28183, 28239, 28305, 28408,\n",
       "       28454, 28533, 28668, 28792, 28877, 28983, 29065, 29110, 29167,\n",
       "       29238, 29321, 29374, 29587, 29828, 29878, 29890, 30067, 30072,\n",
       "       30184, 30228, 30265, 30462, 30597, 30695, 30920, 31211, 31325,\n",
       "       31397, 31749, 31900, 31917, 31933, 31956, 32025, 32199, 32288,\n",
       "       32322, 32471, 32489, 32492, 32616, 32657, 32689, 32997, 33014,\n",
       "       33094, 33143, 33181, 33206, 33333, 33387, 33396, 33415, 33427,\n",
       "       33530, 33545, 33743, 33918, 33942, 33957, 33968, 33985, 34001,\n",
       "       34067, 34223, 34246, 34391, 34556, 34558, 34605, 34657, 34695,\n",
       "       34827, 35035, 35072, 35282, 35628, 35679, 35795, 35830, 36022,\n",
       "       36107, 36255, 36272, 36418, 36429, 36480, 36489, 36491, 36525,\n",
       "       36593, 36667, 36955, 37191, 37284, 37515, 37601, 37623, 37745,\n",
       "       37785, 37995, 38147, 38163, 38187, 38327, 38446, 38474, 38506,\n",
       "       38692, 38729, 38808, 38863, 38876, 38878, 38903, 38964, 39108,\n",
       "       39219, 39245, 39275, 39283, 39382, 39402, 39461, 39526, 39628,\n",
       "       39682, 39775, 39787, 39967, 40129, 40192, 40207, 40212, 40615,\n",
       "       40692, 41085, 41213, 41229, 41258, 41577, 41680, 41779, 41806,\n",
       "       42073, 42280, 42358, 42396, 42416, 42438, 42596, 42628, 42945,\n",
       "       43209, 43274, 43609, 43624, 43800, 43845, 43947, 43966, 43994,\n",
       "       44053, 44098, 44279, 44420, 44475, 44987, 45059, 45067, 45146,\n",
       "       45165, 45179, 45224, 45261, 45298, 45322, 45429, 45590, 45602,\n",
       "       45774, 45775, 45986, 46026, 46034, 46118, 46290, 46298, 46501,\n",
       "       46588, 46634, 46743, 46745, 46891, 47244, 47294, 47340, 47405,\n",
       "       47449, 47555, 47591, 47674, 47677, 47743, 47817, 47965, 48001,\n",
       "       48041, 48130, 48144, 48355, 48407, 48507, 48625, 48667, 48681,\n",
       "       48738, 49024, 49059, 49144, 49176, 49194, 49322, 49374, 49387,\n",
       "       49485, 49610])"
      ]
     },
     "execution_count": 26,
     "metadata": {},
     "output_type": "execute_result"
    }
   ],
   "source": [
    "# candidate poisons given by the algorithm\n",
    "detected_indices"
   ]
  },
  {
   "cell_type": "code",
   "execution_count": 30,
   "metadata": {},
   "outputs": [
    {
     "data": {
      "text/plain": [
       "(491,\n",
       " array([    6,    32,    38,    57,   155,   173,   220,   271,   383,\n",
       "          449,   537,   662,   743,   750,   783,   784,   825,   915,\n",
       "          956,   969,   975,   987,  1085,  1163,  1183,  1246,  1521,\n",
       "         1570,  1604,  1713,  1714,  1790,  1841,  1903,  1936,  1959,\n",
       "         1972,  2199,  2437,  2558,  2607,  2711,  2751,  2773,  3080,\n",
       "         3136,  3225,  3372,  3470,  3482,  3511,  3635,  3788,  3815,\n",
       "         3816,  3905,  3979,  4064,  4106,  4190,  4229,  4246,  4268,\n",
       "         4306,  4643,  4950,  4953,  4959,  5038,  5197,  5252,  5399,\n",
       "         5459,  5815,  5846,  5928,  5940,  6126,  6185,  6292,  6326,\n",
       "         6337,  6353,  6489,  6497,  6560,  6574,  6712,  6787,  6839,\n",
       "         7181,  7330,  7342,  7419,  7654,  7705,  7728,  7774,  7795,\n",
       "         8004,  8144,  8162,  8413,  8431,  8503,  8721,  8757,  8788,\n",
       "         8866,  9409,  9485,  9593,  9598,  9630,  9760,  9961, 10076,\n",
       "        10205, 10321, 10370, 10446, 10472, 10550, 10707, 10797, 10920,\n",
       "        11030, 11064, 11375, 11440, 11576, 11856, 11892, 11911, 12033,\n",
       "        12353, 12481, 12579, 12611, 12891, 12941, 12976, 12983, 13194,\n",
       "        13554, 13778, 13813, 13866, 13941, 14012, 14136, 14456, 14511,\n",
       "        14517, 14519, 14566, 14659, 14754, 14811, 14976, 15077, 15078,\n",
       "        15096, 15275, 15404, 15635, 15782, 16103, 16258, 16368, 16370,\n",
       "        16600, 16818, 16823, 16979, 17004, 17075, 17256, 17268, 17484,\n",
       "        17514, 17526, 17710, 17828, 17845, 17854, 17870, 17926, 17964,\n",
       "        18030, 18037, 18212, 18213, 18431, 18596, 18883, 18976, 19024,\n",
       "        19084, 19276, 19284, 19557, 19591, 19697, 19703, 19970, 19984,\n",
       "        19987, 20319, 20547, 20750, 20958, 21062, 21429, 21521, 21584,\n",
       "        21756, 21858, 21874, 21888, 21962, 22003, 22051, 22076, 22187,\n",
       "        22216, 22487, 22652, 22676, 22693, 22711, 22761, 22806, 22923,\n",
       "        22965, 22981, 23014, 23321, 23430, 23495, 23560, 23675, 23715,\n",
       "        23725, 23781, 23809, 23839, 24016, 24798, 24817, 24828, 25012,\n",
       "        25135, 25235, 25279, 25484, 25523, 25570, 26192, 26227, 26306,\n",
       "        26362, 26492, 26662, 26757, 27064, 27113, 27373, 27721, 27797,\n",
       "        27812, 27816, 27953, 27971, 28037, 28183, 28239, 28305, 28408,\n",
       "        28454, 28533, 28668, 28792, 28877, 28983, 29065, 29110, 29167,\n",
       "        29238, 29321, 29374, 29587, 29828, 29878, 29890, 30067, 30072,\n",
       "        30184, 30228, 30265, 30462, 30597, 30695, 30920, 31211, 31325,\n",
       "        31397, 31749, 31900, 31917, 31933, 31956, 32199, 32288, 32322,\n",
       "        32489, 32492, 32616, 32657, 32689, 32997, 33014, 33094, 33143,\n",
       "        33181, 33206, 33333, 33387, 33396, 33415, 33427, 33530, 33545,\n",
       "        33743, 33918, 33942, 33957, 33968, 33985, 34001, 34067, 34223,\n",
       "        34246, 34391, 34556, 34558, 34605, 34657, 34695, 34758, 34827,\n",
       "        35035, 35072, 35282, 35628, 35679, 35795, 35830, 36022, 36107,\n",
       "        36255, 36272, 36418, 36429, 36480, 36489, 36525, 36593, 36667,\n",
       "        36955, 37284, 37515, 37601, 37623, 37745, 37785, 37995, 38147,\n",
       "        38163, 38327, 38446, 38474, 38506, 38692, 38729, 38808, 38863,\n",
       "        38876, 38878, 38903, 38964, 39108, 39219, 39245, 39275, 39283,\n",
       "        39382, 39402, 39461, 39526, 39628, 39682, 39775, 39787, 39967,\n",
       "        40129, 40192, 40207, 40212, 40615, 40692, 41085, 41213, 41229,\n",
       "        41577, 41680, 41779, 41806, 42280, 42358, 42396, 42416, 42438,\n",
       "        42596, 43209, 43274, 43609, 43624, 43800, 43845, 43947, 43966,\n",
       "        43994, 44053, 44098, 44279, 44420, 44475, 44987, 45059, 45146,\n",
       "        45179, 45224, 45261, 45298, 45322, 45429, 45590, 45602, 45774,\n",
       "        45775, 46026, 46034, 46118, 46290, 46501, 46588, 46634, 46743,\n",
       "        46745, 46891, 47244, 47340, 47405, 47449, 47555, 47591, 47674,\n",
       "        47677, 47743, 47817, 47965, 48001, 48041, 48144, 48355, 48507,\n",
       "        48625, 48667, 48681, 48738, 49024, 49059, 49144, 49176, 49194,\n",
       "        49322, 49374, 49387, 49485, 49610]))"
      ]
     },
     "execution_count": 30,
     "metadata": {},
     "output_type": "execute_result"
    }
   ],
   "source": [
    "# add those known poisons\n",
    "indices_to_be_removed = np.union1d(detected_indices, delete_idx)\n",
    "# true positives\n",
    "true_positives_idx = np.setdiff1d(manip_idx, np.setdiff1d(manip_idx, indices_to_be_removed))\n",
    "len(true_positives_idx), true_positives_idx"
   ]
  },
  {
   "cell_type": "code",
   "execution_count": 31,
   "metadata": {},
   "outputs": [
    {
     "data": {
      "text/plain": [
       "0.982"
      ]
     },
     "execution_count": 31,
     "metadata": {},
     "output_type": "execute_result"
    }
   ],
   "source": [
    "# TPR\n",
    "len(true_positives_idx) / 500"
   ]
  },
  {
   "cell_type": "code",
   "execution_count": null,
   "metadata": {},
   "outputs": [],
   "source": []
  }
 ],
 "metadata": {
  "kernelspec": {
   "display_name": "display-influence",
   "language": "python",
   "name": "influence"
  },
  "language_info": {
   "codemirror_mode": {
    "name": "ipython",
    "version": 3
   },
   "file_extension": ".py",
   "mimetype": "text/x-python",
   "name": "python",
   "nbconvert_exporter": "python",
   "pygments_lexer": "ipython3",
   "version": "3.12.1"
  }
 },
 "nbformat": 4,
 "nbformat_minor": 2
}
